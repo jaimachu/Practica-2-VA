{
 "cells": [
  {
   "cell_type": "code",
   "execution_count": 13,
   "metadata": {},
   "outputs": [],
   "source": [
    "import cv2\n",
    "import matplotlib.pyplot as plt\n",
    "import numpy as np"
   ]
  },
  {
   "cell_type": "markdown",
   "metadata": {},
   "source": [
    "## Umbralizado\n",
    "Primero umbralizamos la imagen con un umbralizado básico y luego con otro adaptativo y luego obtenemos los contornos. De momento el normal da mejores resultados"
   ]
  },
  {
   "cell_type": "code",
   "execution_count": 79,
   "metadata": {},
   "outputs": [],
   "source": [
    "# Umbralizado normal\n",
    "imagen = cv2.imread(\"test_ocr_panels/00006_0.png\", 0)\n",
    "imagenUmbralizada = imagen.copy()\n",
    "imagenUmbralizada[imagen>80] = 255\n",
    "imagenUmbralizada[imagen<=80] = 0\n",
    "contornos, _ = cv2.findContours(imagenUmbralizada, cv2.RETR_LIST, cv2.CHAIN_APPROX_SIMPLE)\n",
    "imagenContornos = np.zeros_like(imagen)\n",
    "cv2.drawContours(imagenContornos, contornos, -1, (255, 255, 255), 1)\n",
    "cv2.imshow(\"Imagen Umbralizada\", imagenUmbralizada)\n",
    "cv2.imshow(\"Imagen con Contornos\", imagenContornos)\n",
    "cv2.waitKey(0)\n",
    "cv2.destroyAllWindows()\n",
    "#plt.imshow(imagenContornos, cmap=\"gray\")"
   ]
  },
  {
   "cell_type": "code",
   "execution_count": 71,
   "metadata": {},
   "outputs": [],
   "source": [
    "# Umbralizado adaptativo\n",
    "imagen = cv2.imread(\"test_ocr_panels/00006_0.png\", 0)\n",
    "imagenUmbralizada = cv2.adaptiveThreshold(imagen,255,cv2.ADAPTIVE_THRESH_GAUSSIAN_C,cv2.THRESH_BINARY_INV,11,3)\n",
    "contornos, _ = cv2.findContours(imagenUmbralizada, cv2.RETR_LIST, cv2.CHAIN_APPROX_SIMPLE)\n",
    "imagenContornos = np.zeros_like(imagen)\n",
    "cv2.drawContours(imagenContornos, contornos, -1, (255, 255, 255), 1)\n",
    "cv2.imshow(\"Imagen Umbralizada\", imagenUmbralizada)\n",
    "cv2.imshow(\"Imagen con Contornos\", imagenContornos)\n",
    "cv2.waitKey(0)\n",
    "cv2.destroyAllWindows()\n",
    "#plt.imshow(imagenContornos, cmap=\"gray\")"
   ]
  },
  {
   "cell_type": "markdown",
   "metadata": {},
   "source": [
    "## MSER\n",
    "Acto seguido tendremos que detectar los caracteres del panel usando MSER"
   ]
  },
  {
   "cell_type": "code",
   "execution_count": 81,
   "metadata": {},
   "outputs": [],
   "source": [
    "# MSER\n",
    "def mser(imagenUmbralizada, imagen):\n",
    "    kernel = cv2.getStructuringElement(cv2.MORPH_RECT, (2,2))\n",
    "    imagenUmbralizada = cv2.dilate(imagenUmbralizada, kernel)\n",
    "    mser = cv2.MSER_create(delta=5, max_variation=0.2, min_area=50, max_area=900)\n",
    "    polygons, _ = mser.detectRegions(imagenUmbralizada)\n",
    "    copy = imagen.copy()\n",
    "    rectangles = []\n",
    "    for p in polygons:\n",
    "        x, y, w, h = cv2.boundingRect(p)\n",
    "        if (h / w > 1 and h / w <= 2):\n",
    "            cv2.rectangle(copy, (x, y), (x + w, y + h), (0, 0, 255), 1)\n",
    "            rectangles.append((x,y,w,h))\n",
    "    cv2.imshow(\"Regiones detectadas por MSER\", copy)\n",
    "    cv2.waitKey(0)\n",
    "    cv2.destroyAllWindows()\n",
    "    return rectangles\n",
    "\n",
    "imagen = cv2.imread(\"test_ocr_panels/00006_0.png\")\n",
    "rectanglesDetected = mser(imagenContornos, imagen)"
   ]
  },
  {
   "cell_type": "markdown",
   "metadata": {},
   "source": [
    "## Agrupación de los centros\n",
    "Una vez tenemos los rectángulos de cada caracter, tendremos que calcular sus centros para luego pasarselo al RANSAC. Antes tendremos que agrupar estos centros en conjuntos de palabras en función de su proximidad con cada uno de los puntos en el eje X"
   ]
  },
  {
   "cell_type": "code",
   "execution_count": 85,
   "metadata": {},
   "outputs": [],
   "source": [
    "from sklearn import linear_model\n",
    "from sklearn.cluster import DBSCAN\n",
    "\n",
    "def agruparCentros(rectanglesDetected, imagen):\n",
    "    # Dibujamos los centros de los caracteres\n",
    "    copy = imagen.copy()\n",
    "    centros = []\n",
    "    for rectangle in rectanglesDetected:\n",
    "        x, y, w, h = rectangle\n",
    "        center = (x + (w//2), y + (h//2))\n",
    "        cv2.circle(copy, (center[0], center[1]), radius=1, color=(0, 0, 255), thickness=2)\n",
    "        centros.append(list(center))\n",
    "    # Utilizamos DBSCAN para agrupar los centros en grupos\n",
    "    dbscan = DBSCAN(eps=35, min_samples=1)\n",
    "    y_pred = dbscan.fit_predict(centros)\n",
    "    # Construimos los conjuntos a partir de las etiquetas obtenidas\n",
    "    setCenters = []\n",
    "    for _ in range(len(np.unique(y_pred))):\n",
    "        setCenters.append([])\n",
    "    for i, center in enumerate(centros):\n",
    "        index = y_pred[i]\n",
    "        if (len(setCenters[index]) == 0):\n",
    "            setCenters[index] = [center]\n",
    "        else:\n",
    "            elem = setCenters[index]\n",
    "            elem.append(center)\n",
    "            setCenters[index] = elem\n",
    "    # Aplicamos RANSAC para cada uno de los conjuntos\n",
    "    ransac = linear_model.RANSACRegressor()\n",
    "    for set in setCenters:\n",
    "        if (len(set) > 1):\n",
    "            centrosX = [sublista[0] for sublista in set]\n",
    "            centrosY = [sublista[1] for sublista in set]\n",
    "            centrosX = np.array(centrosX).reshape(-1, 1)\n",
    "            centrosY = np.array(centrosY)\n",
    "\n",
    "            ransac.fit(centrosX, centrosY)\n",
    "            x0 = centrosX.min()\n",
    "            x1 = centrosX.max()  # Usamos el rango de nuestros datos\n",
    "            y0 = ransac.estimator_.intercept_\n",
    "            y1 = x1 * ransac.estimator_.coef_[0] + ransac.estimator_.intercept_\n",
    "            start_point = (int(x0), int(y0))\n",
    "            end_point = (int(x1), int(y1))\n",
    "            cv2.line(copy, start_point, end_point, color=(0, 255, 0), thickness=1)\n",
    "    cv2.imshow(\"Regiones detectadas por MSER\", copy)\n",
    "    cv2.waitKey(0)\n",
    "    cv2.destroyAllWindows()\n",
    "\n",
    "agruparCentros(rectanglesDetected, imagen)"
   ]
  },
  {
   "cell_type": "code",
   "execution_count": 83,
   "metadata": {},
   "outputs": [],
   "source": [
    "from sklearn.linear_model import RANSACRegressor\n",
    "\n",
    "def ransac(rectanglesDetected, imagen):\n",
    "    ransac = RANSACRegressor()\n",
    "    copy = imagen.copy()\n",
    "    centrosX = []\n",
    "    centrosY = []\n",
    "    for rectangle in rectanglesDetected:\n",
    "        x, y, w, h = rectangle\n",
    "        center = (x + (w//2), y + (h//2))\n",
    "        cv2.circle(copy, (center[0], center[1]), radius=1, color=(255, 255, 255), thickness=2)\n",
    "        centrosX.append(center[0])\n",
    "        centrosY.append(center[1])\n",
    "    centrosX = np.array(centrosX).reshape(-1, 1)\n",
    "    centrosY = np.array(centrosY)\n",
    "\n",
    "    ransac.fit(centrosX, centrosY)\n",
    "    x0 = centrosX.min()\n",
    "    x1 = centrosX.max()  # Usamos el rango de nuestros datos\n",
    "    y0 = ransac.estimator_.intercept_\n",
    "    y1 = x1 * ransac.estimator_.coef_[0] + ransac.estimator_.intercept_\n",
    "    start_point = (int(x0), int(y0))\n",
    "    end_point = (int(x1), int(y1))\n",
    "\n",
    "    # Dibujar la línea en la imagen\n",
    "    #cv2.line(copy, start_point, end_point, color=(0, 0, 255), thickness=2)\n",
    "\n",
    "    \n",
    "    cv2.imshow(\"Regiones detectadas por MSER\", copy)\n",
    "    cv2.waitKey(0)\n",
    "    cv2.destroyAllWindows()\n",
    "\n",
    "ransac(rectanglesDetected, imagen)"
   ]
  }
 ],
 "metadata": {
  "kernelspec": {
   "display_name": "vision",
   "language": "python",
   "name": "python3"
  },
  "language_info": {
   "codemirror_mode": {
    "name": "ipython",
    "version": 3
   },
   "file_extension": ".py",
   "mimetype": "text/x-python",
   "name": "python",
   "nbconvert_exporter": "python",
   "pygments_lexer": "ipython3",
   "version": "3.11.8"
  }
 },
 "nbformat": 4,
 "nbformat_minor": 2
}
